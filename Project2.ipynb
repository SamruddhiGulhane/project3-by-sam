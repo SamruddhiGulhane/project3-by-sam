{
 "cells": [
  {
   "cell_type": "code",
   "execution_count": 1,
   "id": "e222e0d9",
   "metadata": {},
   "outputs": [],
   "source": [
    "import pandas as pd \n",
    "import numpy as np\n",
    "from datetime import datetime, timedelta\n",
    "import random"
   ]
  },
  {
   "cell_type": "code",
   "execution_count": 2,
   "id": "91dcadba",
   "metadata": {},
   "outputs": [],
   "source": [
    "df = pd.read_csv(r'C:\\Users\\91988\\OneDrive\\Documents\\abc_gaming_dummy_dataset.ipynb.csv')"
   ]
  },
  {
   "cell_type": "code",
   "execution_count": 3,
   "id": "7473a76a",
   "metadata": {},
   "outputs": [
    {
     "data": {
      "text/html": [
       "<div>\n",
       "<style scoped>\n",
       "    .dataframe tbody tr th:only-of-type {\n",
       "        vertical-align: middle;\n",
       "    }\n",
       "\n",
       "    .dataframe tbody tr th {\n",
       "        vertical-align: top;\n",
       "    }\n",
       "\n",
       "    .dataframe thead th {\n",
       "        text-align: right;\n",
       "    }\n",
       "</style>\n",
       "<table border=\"1\" class=\"dataframe\">\n",
       "  <thead>\n",
       "    <tr style=\"text-align: right;\">\n",
       "      <th></th>\n",
       "      <th>Player_ID</th>\n",
       "      <th>Timestamp</th>\n",
       "      <th>Action_Type</th>\n",
       "      <th>Amount</th>\n",
       "      <th>Games_Played</th>\n",
       "    </tr>\n",
       "  </thead>\n",
       "  <tbody>\n",
       "    <tr>\n",
       "      <th>0</th>\n",
       "      <td>P082</td>\n",
       "      <td>2023-10-14 08:25:56</td>\n",
       "      <td>Deposit</td>\n",
       "      <td>4512</td>\n",
       "      <td>0</td>\n",
       "    </tr>\n",
       "    <tr>\n",
       "      <th>1</th>\n",
       "      <td>P029</td>\n",
       "      <td>2023-10-05 23:24:55</td>\n",
       "      <td>Deposit</td>\n",
       "      <td>9435</td>\n",
       "      <td>0</td>\n",
       "    </tr>\n",
       "    <tr>\n",
       "      <th>2</th>\n",
       "      <td>P012</td>\n",
       "      <td>2023-10-02 13:01:46</td>\n",
       "      <td>Game</td>\n",
       "      <td>0</td>\n",
       "      <td>1</td>\n",
       "    </tr>\n",
       "    <tr>\n",
       "      <th>3</th>\n",
       "      <td>P012</td>\n",
       "      <td>2023-10-25 12:46:53</td>\n",
       "      <td>Deposit</td>\n",
       "      <td>934</td>\n",
       "      <td>0</td>\n",
       "    </tr>\n",
       "    <tr>\n",
       "      <th>4</th>\n",
       "      <td>P072</td>\n",
       "      <td>2023-10-27 10:54:10</td>\n",
       "      <td>Deposit</td>\n",
       "      <td>7373</td>\n",
       "      <td>0</td>\n",
       "    </tr>\n",
       "  </tbody>\n",
       "</table>\n",
       "</div>"
      ],
      "text/plain": [
       "  Player_ID            Timestamp Action_Type  Amount  Games_Played\n",
       "0      P082  2023-10-14 08:25:56     Deposit    4512             0\n",
       "1      P029  2023-10-05 23:24:55     Deposit    9435             0\n",
       "2      P012  2023-10-02 13:01:46        Game       0             1\n",
       "3      P012  2023-10-25 12:46:53     Deposit     934             0\n",
       "4      P072  2023-10-27 10:54:10     Deposit    7373             0"
      ]
     },
     "execution_count": 3,
     "metadata": {},
     "output_type": "execute_result"
    }
   ],
   "source": [
    "df.head()"
   ]
  },
  {
   "cell_type": "code",
   "execution_count": 4,
   "id": "89351658",
   "metadata": {},
   "outputs": [],
   "source": [
    "random.seed(42)\n",
    "np.random.seed(42)"
   ]
  },
  {
   "cell_type": "markdown",
   "id": "4ba95f24",
   "metadata": {},
   "source": [
    "generate list for player id"
   ]
  },
  {
   "cell_type": "code",
   "execution_count": 5,
   "id": "d5948bd6",
   "metadata": {},
   "outputs": [],
   "source": [
    "player_ids = [f\"P{str(i).zfill(3)}\" for i in range(1, 101)]"
   ]
  },
  {
   "cell_type": "markdown",
   "id": "de6a7408",
   "metadata": {},
   "source": [
    "generate transaction data for october"
   ]
  },
  {
   "cell_type": "code",
   "execution_count": 6,
   "id": "c63a892a",
   "metadata": {},
   "outputs": [],
   "source": [
    "actions = ['Deposit', 'Withdrawal', 'Game']\n",
    "data = []"
   ]
  },
  {
   "cell_type": "code",
   "execution_count": 7,
   "id": "314efe2b",
   "metadata": {},
   "outputs": [],
   "source": [
    "for player in player_ids:\n",
    "    num_records = random.randint(15, 40)  # each player has 15-40 activities\n",
    "    for _ in range(num_records):\n",
    "        action = random.choice(actions)\n",
    "        date = datetime(2023, 10, 1) + timedelta(days=random.randint(0, 30), hours=random.randint(0, 23), minutes=random.randint(0, 59))\n",
    "        amount = 0\n",
    "        games_played = 0\n",
    "\n",
    "        if action == 'Deposit':\n",
    "            amount = random.randint(100, 5000)\n",
    "        elif action == 'Withdrawal':\n",
    "            amount = random.randint(50, 3000)\n",
    "        elif action == 'Game':\n",
    "            games_played = random.randint(1, 5)\n",
    "\n",
    "        data.append([player, date, action, amount, games_played])"
   ]
  },
  {
   "cell_type": "markdown",
   "id": "36ceeb98",
   "metadata": {},
   "source": [
    "Create dataframe"
   ]
  },
  {
   "cell_type": "code",
   "execution_count": 8,
   "id": "91c91ac1",
   "metadata": {},
   "outputs": [],
   "source": [
    "df = pd.DataFrame(data, columns=['Player_ID', 'Timestamp', 'Action_Type', 'Amount', 'Games_Played'])"
   ]
  },
  {
   "cell_type": "code",
   "execution_count": 9,
   "id": "e4c4d5b2",
   "metadata": {},
   "outputs": [
    {
     "data": {
      "text/html": [
       "<div>\n",
       "<style scoped>\n",
       "    .dataframe tbody tr th:only-of-type {\n",
       "        vertical-align: middle;\n",
       "    }\n",
       "\n",
       "    .dataframe tbody tr th {\n",
       "        vertical-align: top;\n",
       "    }\n",
       "\n",
       "    .dataframe thead th {\n",
       "        text-align: right;\n",
       "    }\n",
       "</style>\n",
       "<table border=\"1\" class=\"dataframe\">\n",
       "  <thead>\n",
       "    <tr style=\"text-align: right;\">\n",
       "      <th></th>\n",
       "      <th>Player_ID</th>\n",
       "      <th>Timestamp</th>\n",
       "      <th>Action_Type</th>\n",
       "      <th>Amount</th>\n",
       "      <th>Games_Played</th>\n",
       "    </tr>\n",
       "  </thead>\n",
       "  <tbody>\n",
       "    <tr>\n",
       "      <th>0</th>\n",
       "      <td>P001</td>\n",
       "      <td>2023-10-01 23:17:00</td>\n",
       "      <td>Deposit</td>\n",
       "      <td>2106</td>\n",
       "      <td>0</td>\n",
       "    </tr>\n",
       "    <tr>\n",
       "      <th>1</th>\n",
       "      <td>P001</td>\n",
       "      <td>2023-10-05 23:06:00</td>\n",
       "      <td>Deposit</td>\n",
       "      <td>4567</td>\n",
       "      <td>0</td>\n",
       "    </tr>\n",
       "    <tr>\n",
       "      <th>2</th>\n",
       "      <td>P001</td>\n",
       "      <td>2023-10-19 13:02:00</td>\n",
       "      <td>Deposit</td>\n",
       "      <td>344</td>\n",
       "      <td>0</td>\n",
       "    </tr>\n",
       "    <tr>\n",
       "      <th>3</th>\n",
       "      <td>P001</td>\n",
       "      <td>2023-10-07 07:32:00</td>\n",
       "      <td>Deposit</td>\n",
       "      <td>317</td>\n",
       "      <td>0</td>\n",
       "    </tr>\n",
       "    <tr>\n",
       "      <th>4</th>\n",
       "      <td>P001</td>\n",
       "      <td>2023-10-07 22:41:00</td>\n",
       "      <td>Game</td>\n",
       "      <td>0</td>\n",
       "      <td>5</td>\n",
       "    </tr>\n",
       "  </tbody>\n",
       "</table>\n",
       "</div>"
      ],
      "text/plain": [
       "  Player_ID           Timestamp Action_Type  Amount  Games_Played\n",
       "0      P001 2023-10-01 23:17:00     Deposit    2106             0\n",
       "1      P001 2023-10-05 23:06:00     Deposit    4567             0\n",
       "2      P001 2023-10-19 13:02:00     Deposit     344             0\n",
       "3      P001 2023-10-07 07:32:00     Deposit     317             0\n",
       "4      P001 2023-10-07 22:41:00        Game       0             5"
      ]
     },
     "execution_count": 9,
     "metadata": {},
     "output_type": "execute_result"
    }
   ],
   "source": [
    "df.head()"
   ]
  },
  {
   "cell_type": "markdown",
   "id": "fdf45d1a",
   "metadata": {},
   "source": [
    "convert timestamp to date time"
   ]
  },
  {
   "cell_type": "code",
   "execution_count": 10,
   "id": "282026bd",
   "metadata": {},
   "outputs": [],
   "source": [
    "df['Timestamp'] = pd.to_datetime(df['Timestamp'])"
   ]
  },
  {
   "cell_type": "markdown",
   "id": "d9edf2e5",
   "metadata": {},
   "source": [
    "to calculate loyalty points"
   ]
  },
  {
   "cell_type": "code",
   "execution_count": 11,
   "id": "1ea436cf",
   "metadata": {},
   "outputs": [],
   "source": [
    "def calculate_loyalty_points(data):\n",
    "    grouped = data.groupby('Player_ID').agg(\n",
    "        total_deposit=('Amount', lambda x: x[data.loc[x.index, 'Action_Type'] == 'Deposit'].sum()),\n",
    "        deposit_count=('Action_Type', lambda x: (x == 'Deposit').sum()),\n",
    "        total_withdrawal=('Amount', lambda x: x[data.loc[x.index, 'Action_Type'] == 'Withdrawal'].sum()),\n",
    "        withdrawal_count=('Action_Type', lambda x: (x == 'Withdrawal').sum()),\n",
    "        total_games=('Games_Played', 'sum')\n",
    "    ).reset_index()\n",
    "\n",
    "    grouped['extra_points'] = 0.001 * (grouped['deposit_count'] - grouped['withdrawal_count']).clip(lower=0)\n",
    "    grouped['loyalty_points'] = (\n",
    "        0.01 * grouped['total_deposit'] +\n",
    "        0.005 * grouped['total_withdrawal'] +\n",
    "        grouped['extra_points'] +\n",
    "        0.2 * grouped['total_games']\n",
    "    )\n",
    "\n",
    "    return grouped[['Player_ID', 'loyalty_points']].sort_values(by='loyalty_points', ascending=False)"
   ]
  },
  {
   "cell_type": "markdown",
   "id": "7bd1d6d5",
   "metadata": {},
   "source": [
    "Define slots"
   ]
  },
  {
   "cell_type": "code",
   "execution_count": 12,
   "id": "c06d9a62",
   "metadata": {},
   "outputs": [],
   "source": [
    "slots = {\n",
    "    '2nd Oct S1': (datetime(2023, 10, 2, 0), datetime(2023, 10, 2, 12)),\n",
    "    '16th Oct S2': (datetime(2023, 10, 16, 12), datetime(2023, 10, 17, 0)),\n",
    "    '18th Oct S1': (datetime(2023, 10, 18, 0), datetime(2023, 10, 18, 12)),\n",
    "    '26th Oct S2': (datetime(2023, 10, 26, 12), datetime(2023, 10, 27, 0)),\n",
    "}"
   ]
  },
  {
   "cell_type": "markdown",
   "id": "8c671d96",
   "metadata": {},
   "source": [
    "calculate loyalty point per slot"
   ]
  },
  {
   "cell_type": "code",
   "execution_count": 13,
   "id": "331ab170",
   "metadata": {},
   "outputs": [],
   "source": [
    "slot_results = {}\n",
    "for slot_name, (start, end) in slots.items():\n",
    "    slot_data = df[(df['Timestamp'] >= start) & (df['Timestamp'] < end)]\n",
    "    slot_results[slot_name] = calculate_loyalty_points(slot_data)"
   ]
  },
  {
   "cell_type": "markdown",
   "id": "a1e2d82c",
   "metadata": {},
   "source": [
    "show top 5"
   ]
  },
  {
   "cell_type": "code",
   "execution_count": 14,
   "id": "aa624a2a",
   "metadata": {},
   "outputs": [
    {
     "data": {
      "text/plain": [
       "{'2nd Oct S1':    Player_ID  loyalty_points\n",
       " 5       P014          61.372\n",
       " 0       P002          47.471\n",
       " 8       P018          38.665\n",
       " 12      P028          38.641\n",
       " 6       P015          38.441,\n",
       " '16th Oct S2':    Player_ID  loyalty_points\n",
       " 13      P052          49.850\n",
       " 12      P051          49.201\n",
       " 11      P050          46.791\n",
       " 20      P062          45.281\n",
       " 32      P088          42.391,\n",
       " '18th Oct S1':    Player_ID  loyalty_points\n",
       " 17      P046          74.112\n",
       " 5       P012          47.001\n",
       " 26      P065          40.191\n",
       " 37      P097          38.496\n",
       " 0       P001          30.621,\n",
       " '26th Oct S2':    Player_ID  loyalty_points\n",
       " 15      P035          49.931\n",
       " 30      P079          49.545\n",
       " 29      P078          47.731\n",
       " 27      P068          44.061\n",
       " 3       P010          43.085}"
      ]
     },
     "execution_count": 14,
     "metadata": {},
     "output_type": "execute_result"
    }
   ],
   "source": [
    "{slot: data.head(5) for slot, data in slot_results.items()}"
   ]
  },
  {
   "cell_type": "markdown",
   "id": "27a71ed5",
   "metadata": {},
   "source": [
    "monthly loyalty points per player"
   ]
  },
  {
   "cell_type": "code",
   "execution_count": 15,
   "id": "5f8b79cd",
   "metadata": {},
   "outputs": [],
   "source": [
    "monthly_loyalty = calculate_loyalty_points(df)"
   ]
  },
  {
   "cell_type": "markdown",
   "id": "8028ca0f",
   "metadata": {},
   "source": [
    "\n",
    "Merge additional data: total games played for tie-breaker"
   ]
  },
  {
   "cell_type": "code",
   "execution_count": 16,
   "id": "96975a4a",
   "metadata": {},
   "outputs": [],
   "source": [
    "games_data = df[df['Action_Type'] == 'Game'].groupby('Player_ID')['Games_Played'].sum().reset_index()\n",
    "monthly_loyalty = pd.merge(monthly_loyalty, games_data, on='Player_ID', how='left').fillna(0)\n"
   ]
  },
  {
   "cell_type": "code",
   "execution_count": 17,
   "id": "a5ae7639",
   "metadata": {},
   "outputs": [],
   "source": [
    "monthly_loyalty['Rank'] = monthly_loyalty.sort_values(\n",
    "    by=['loyalty_points', 'Games_Played'], ascending=[False, False]\n",
    ").reset_index(drop=True).index + 1\n"
   ]
  },
  {
   "cell_type": "markdown",
   "id": "01714c69",
   "metadata": {},
   "source": [
    "A3 average Deposit"
   ]
  },
  {
   "cell_type": "code",
   "execution_count": 18,
   "id": "3e4f2c06",
   "metadata": {},
   "outputs": [],
   "source": [
    "avg_deposit = df[df['Action_Type'] == 'Deposit']['Amount'].mean()\n"
   ]
  },
  {
   "cell_type": "code",
   "execution_count": 19,
   "id": "9edebeed",
   "metadata": {},
   "outputs": [],
   "source": [
    "deposits_per_user = df[df['Action_Type'] == 'Deposit'].groupby('Player_ID')['Amount'].sum()\n",
    "avg_deposit_per_user = deposits_per_user.mean()\n"
   ]
  },
  {
   "cell_type": "markdown",
   "id": "91fe7534",
   "metadata": {},
   "source": [
    "A5 avg no of game played per user"
   ]
  },
  {
   "cell_type": "markdown",
   "id": "3ed2bb63",
   "metadata": {},
   "source": [
    "A4  Average Deposit Amount per User in a Month"
   ]
  },
  {
   "cell_type": "code",
   "execution_count": 20,
   "id": "0c4f0e06",
   "metadata": {},
   "outputs": [],
   "source": [
    "games_per_user = df[df['Action_Type'] == 'Game'].groupby('Player_ID')['Games_Played'].sum()\n",
    "avg_games_per_user = games_per_user.mean()"
   ]
  },
  {
   "cell_type": "markdown",
   "id": "20fdfa49",
   "metadata": {},
   "source": [
    "top 5 players and avgs"
   ]
  },
  {
   "cell_type": "code",
   "execution_count": 21,
   "id": "633bd3b5",
   "metadata": {},
   "outputs": [
    {
     "data": {
      "text/plain": [
       "{'Top 5 Players by Loyalty Points':   Player_ID  loyalty_points  Games_Played  Rank\n",
       " 0      P074         625.423            34     1\n",
       " 1      P002         558.616            39     2\n",
       " 2      P043         505.907            34     3\n",
       " 3      P035         498.183            23     4\n",
       " 4      P052         477.687            39     5,\n",
       " 'Average Deposit Amount': np.float64(2557.6083244397014),\n",
       " 'Average Deposit per User': np.float64(23964.79),\n",
       " 'Average Games Played per User': np.float64(30.21)}"
      ]
     },
     "execution_count": 21,
     "metadata": {},
     "output_type": "execute_result"
    }
   ],
   "source": [
    "monthly_summary = monthly_loyalty.sort_values(by='Rank').head(5)\n",
    "{\n",
    "    \"Top 5 Players by Loyalty Points\": monthly_summary,\n",
    "    \"Average Deposit Amount\": avg_deposit,\n",
    "    \"Average Deposit per User\": avg_deposit_per_user,\n",
    "    \"Average Games Played per User\": avg_games_per_user\n",
    "}\n"
   ]
  },
  {
   "cell_type": "markdown",
   "id": "f68ccbbf",
   "metadata": {},
   "source": [
    "                PART B"
   ]
  },
  {
   "cell_type": "markdown",
   "id": "7c67d672",
   "metadata": {},
   "source": [
    "Bonus for a player = (Player’s loyalty points / Total loyalty points of top 50 players) * 50,000"
   ]
  },
  {
   "cell_type": "markdown",
   "id": "7f182954",
   "metadata": {},
   "source": [
    "Calculate loyalty points for each row"
   ]
  },
  {
   "cell_type": "code",
   "execution_count": 22,
   "id": "54bc03b7",
   "metadata": {},
   "outputs": [
    {
     "name": "stdout",
     "output_type": "stream",
     "text": [
      "Index(['Player_ID', 'Timestamp', 'Action_Type', 'Amount', 'Games_Played'], dtype='object')\n"
     ]
    }
   ],
   "source": [
    "print(df.columns)"
   ]
  },
  {
   "cell_type": "markdown",
   "id": "15b5a908",
   "metadata": {},
   "source": [
    "Create new columns based on action type"
   ]
  },
  {
   "cell_type": "code",
   "execution_count": 23,
   "id": "dbdaaa3d",
   "metadata": {},
   "outputs": [],
   "source": [
    "\n",
    "df['Deposit_Amount'] = df.apply(lambda x: x['Amount'] if x['Action_Type'] == 'Deposit' else 0, axis=1)\n",
    "df['Withdrawal_Amount'] = df.apply(lambda x: x['Amount'] if x['Action_Type'] == 'Withdraw' else 0, axis=1)\n",
    "df['Num_Deposits'] = df['Action_Type'].apply(lambda x: 1 if x == 'Deposit' else 0)\n",
    "df['Num_Withdrawals'] = df['Action_Type'].apply(lambda x: 1 if x == 'Withdraw' else 0)\n"
   ]
  },
  {
   "cell_type": "markdown",
   "id": "c428566b",
   "metadata": {},
   "source": [
    "Group by Player to get total values:"
   ]
  },
  {
   "cell_type": "code",
   "execution_count": 24,
   "id": "9b39a0a0",
   "metadata": {},
   "outputs": [],
   "source": [
    "player_loyalty_df = df.groupby('Player_ID').agg({\n",
    "    'Deposit_Amount': 'sum',\n",
    "    'Withdrawal_Amount': 'sum',\n",
    "    'Num_Deposits': 'sum',\n",
    "    'Num_Withdrawals': 'sum',\n",
    "    'Games_Played': 'sum'\n",
    "}).reset_index()"
   ]
  },
  {
   "cell_type": "markdown",
   "id": "8783af5a",
   "metadata": {},
   "source": [
    "Calculate Loyalty Points"
   ]
  },
  {
   "cell_type": "code",
   "execution_count": 25,
   "id": "d42e57d1",
   "metadata": {},
   "outputs": [],
   "source": [
    "player_loyalty_df['Loyalty_Points'] = (\n",
    "    0.01 * player_loyalty_df['Deposit_Amount'] +\n",
    "    0.005 * player_loyalty_df['Withdrawal_Amount'] +\n",
    "    0.001 * (player_loyalty_df['Num_Deposits'] - player_loyalty_df['Num_Withdrawals']).clip(lower=0) +\n",
    "    0.2 * player_loyalty_df['Games_Played']\n",
    ")"
   ]
  },
  {
   "cell_type": "markdown",
   "id": "fc6f1189",
   "metadata": {},
   "source": [
    "Now sort and get Top 50 players:"
   ]
  },
  {
   "cell_type": "code",
   "execution_count": 26,
   "id": "a397c576",
   "metadata": {},
   "outputs": [],
   "source": [
    "top_50 = player_loyalty_df.sort_values(by=['Loyalty_Points', 'Games_Played'], ascending=[False, False]).head(50)"
   ]
  },
  {
   "cell_type": "markdown",
   "id": "20dc7400",
   "metadata": {},
   "source": [
    "Bonus Distribution (Rs 50,000)"
   ]
  },
  {
   "cell_type": "code",
   "execution_count": 27,
   "id": "edd01b4e",
   "metadata": {},
   "outputs": [],
   "source": [
    "total_loyalty_top_50 = top_50['Loyalty_Points'].sum()\n",
    "top_50['Bonus_Amount'] = (top_50['Loyalty_Points'] / total_loyalty_top_50) * 50000"
   ]
  },
  {
   "cell_type": "code",
   "execution_count": 39,
   "id": "29d39f47",
   "metadata": {},
   "outputs": [
    {
     "name": "stdout",
     "output_type": "stream",
     "text": [
      "Bonus-distributed leaderboard saved as 'Top_50_Loyalty_Leaderboard_with_Bonus.csv'\n"
     ]
    }
   ],
   "source": [
    "top_50.to_csv('Top_50_Loyalty_Leaderboard_with_Bonus.csv', index=False)\n",
    "print(\"Bonus-distributed leaderboard saved as 'Top_50_Loyalty_Leaderboard_with_Bonus.csv'\")"
   ]
  },
  {
   "cell_type": "markdown",
   "id": "81a4290e",
   "metadata": {},
   "source": [
    "                                  PART C"
   ]
  },
  {
   "cell_type": "markdown",
   "id": "c97fadc8",
   "metadata": {},
   "source": [
    "Add dummy columns with default values"
   ]
  },
  {
   "cell_type": "code",
   "execution_count": 29,
   "id": "dca148bf",
   "metadata": {},
   "outputs": [],
   "source": [
    "# Add dummy columns with default values (for testing)\n",
    "df['Num_Deposits'] = df.get('Num_Deposits', 3)  # Replace 3 with your default\n",
    "df['Num_Withdrawals'] = df.get('Num_Withdrawals', 2)  # Replace 2 with your default\n",
    "df['Games_Won'] =  df.get('Games_Won', 10)  # Assume player won 10 games\n",
    "df['Login_Streak_Days'] = df.get('Login_Streak_Days', 5)  # Assume 5-day streak\n"
   ]
  },
  {
   "cell_type": "code",
   "execution_count": 30,
   "id": "becc6929",
   "metadata": {},
   "outputs": [],
   "source": [
    "df['Loyalty_Points'] = (\n",
    "    0.008 * df['Deposit_Amount'] +\n",
    "    0.004 * df['Withdrawal_Amount'] +\n",
    "    0.001 * (df['Num_Deposits'] - df['Num_Withdrawals']).clip(lower=0) +\n",
    "    0.15 * df['Games_Played'] +\n",
    "    0.1 * df['Games_Won'] +\n",
    "    0.02 * df['Login_Streak_Days']\n",
    ")"
   ]
  },
  {
   "cell_type": "markdown",
   "id": "b578d625",
   "metadata": {},
   "source": [
    " Sort by loyalty points and games played"
   ]
  },
  {
   "cell_type": "code",
   "execution_count": 36,
   "id": "9a8c134d",
   "metadata": {},
   "outputs": [],
   "source": [
    "top_50.to_csv(\"Top_50_Hybrid_Bonus_Leaderboard.csv\", index=False)"
   ]
  },
  {
   "cell_type": "code",
   "execution_count": 31,
   "id": "420068f6",
   "metadata": {},
   "outputs": [],
   "source": [
    "top_50 = df.sort_values(by=['Loyalty_Points', 'Games_Played'], ascending=[False, False]).head(50)\n"
   ]
  },
  {
   "cell_type": "code",
   "execution_count": 32,
   "id": "9921b0f0",
   "metadata": {},
   "outputs": [],
   "source": [
    "top_50.reset_index(drop=True, inplace=True)\n",
    "top_50['Rank'] = top_50.index + 1"
   ]
  },
  {
   "cell_type": "code",
   "execution_count": 33,
   "id": "31bce464",
   "metadata": {},
   "outputs": [],
   "source": [
    "top_50.to_csv('Top_50_Loyalty_Leaderboard.csv', index=False)"
   ]
  },
  {
   "cell_type": "code",
   "execution_count": 37,
   "id": "6fe92433",
   "metadata": {},
   "outputs": [
    {
     "data": {
      "text/html": [
       "<div>\n",
       "<style scoped>\n",
       "    .dataframe tbody tr th:only-of-type {\n",
       "        vertical-align: middle;\n",
       "    }\n",
       "\n",
       "    .dataframe tbody tr th {\n",
       "        vertical-align: top;\n",
       "    }\n",
       "\n",
       "    .dataframe thead th {\n",
       "        text-align: right;\n",
       "    }\n",
       "</style>\n",
       "<table border=\"1\" class=\"dataframe\">\n",
       "  <thead>\n",
       "    <tr style=\"text-align: right;\">\n",
       "      <th></th>\n",
       "      <th>Player_ID</th>\n",
       "      <th>Timestamp</th>\n",
       "      <th>Action_Type</th>\n",
       "      <th>Amount</th>\n",
       "      <th>Games_Played</th>\n",
       "      <th>Deposit_Amount</th>\n",
       "      <th>Withdrawal_Amount</th>\n",
       "      <th>Num_Deposits</th>\n",
       "      <th>Num_Withdrawals</th>\n",
       "      <th>Games_Won</th>\n",
       "      <th>Login_Streak_Days</th>\n",
       "      <th>Loyalty_Points</th>\n",
       "      <th>Rank</th>\n",
       "    </tr>\n",
       "  </thead>\n",
       "  <tbody>\n",
       "    <tr>\n",
       "      <th>0</th>\n",
       "      <td>P058</td>\n",
       "      <td>2023-10-10 12:04:00</td>\n",
       "      <td>Deposit</td>\n",
       "      <td>5000</td>\n",
       "      <td>0</td>\n",
       "      <td>5000</td>\n",
       "      <td>0</td>\n",
       "      <td>1</td>\n",
       "      <td>0</td>\n",
       "      <td>10</td>\n",
       "      <td>5</td>\n",
       "      <td>41.101</td>\n",
       "      <td>1</td>\n",
       "    </tr>\n",
       "    <tr>\n",
       "      <th>1</th>\n",
       "      <td>P080</td>\n",
       "      <td>2023-10-30 15:17:00</td>\n",
       "      <td>Deposit</td>\n",
       "      <td>4997</td>\n",
       "      <td>0</td>\n",
       "      <td>4997</td>\n",
       "      <td>0</td>\n",
       "      <td>1</td>\n",
       "      <td>0</td>\n",
       "      <td>10</td>\n",
       "      <td>5</td>\n",
       "      <td>41.077</td>\n",
       "      <td>2</td>\n",
       "    </tr>\n",
       "    <tr>\n",
       "      <th>2</th>\n",
       "      <td>P068</td>\n",
       "      <td>2023-10-27 14:56:00</td>\n",
       "      <td>Deposit</td>\n",
       "      <td>4995</td>\n",
       "      <td>0</td>\n",
       "      <td>4995</td>\n",
       "      <td>0</td>\n",
       "      <td>1</td>\n",
       "      <td>0</td>\n",
       "      <td>10</td>\n",
       "      <td>5</td>\n",
       "      <td>41.061</td>\n",
       "      <td>3</td>\n",
       "    </tr>\n",
       "    <tr>\n",
       "      <th>3</th>\n",
       "      <td>P035</td>\n",
       "      <td>2023-10-27 20:09:00</td>\n",
       "      <td>Deposit</td>\n",
       "      <td>4974</td>\n",
       "      <td>0</td>\n",
       "      <td>4974</td>\n",
       "      <td>0</td>\n",
       "      <td>1</td>\n",
       "      <td>0</td>\n",
       "      <td>10</td>\n",
       "      <td>5</td>\n",
       "      <td>40.893</td>\n",
       "      <td>4</td>\n",
       "    </tr>\n",
       "    <tr>\n",
       "      <th>4</th>\n",
       "      <td>P061</td>\n",
       "      <td>2023-10-20 02:03:00</td>\n",
       "      <td>Deposit</td>\n",
       "      <td>4967</td>\n",
       "      <td>0</td>\n",
       "      <td>4967</td>\n",
       "      <td>0</td>\n",
       "      <td>1</td>\n",
       "      <td>0</td>\n",
       "      <td>10</td>\n",
       "      <td>5</td>\n",
       "      <td>40.837</td>\n",
       "      <td>5</td>\n",
       "    </tr>\n",
       "  </tbody>\n",
       "</table>\n",
       "</div>"
      ],
      "text/plain": [
       "  Player_ID            Timestamp Action_Type  Amount  Games_Played  \\\n",
       "0      P058  2023-10-10 12:04:00     Deposit    5000             0   \n",
       "1      P080  2023-10-30 15:17:00     Deposit    4997             0   \n",
       "2      P068  2023-10-27 14:56:00     Deposit    4995             0   \n",
       "3      P035  2023-10-27 20:09:00     Deposit    4974             0   \n",
       "4      P061  2023-10-20 02:03:00     Deposit    4967             0   \n",
       "\n",
       "   Deposit_Amount  Withdrawal_Amount  Num_Deposits  Num_Withdrawals  \\\n",
       "0            5000                  0             1                0   \n",
       "1            4997                  0             1                0   \n",
       "2            4995                  0             1                0   \n",
       "3            4974                  0             1                0   \n",
       "4            4967                  0             1                0   \n",
       "\n",
       "   Games_Won  Login_Streak_Days  Loyalty_Points  Rank  \n",
       "0         10                  5          41.101     1  \n",
       "1         10                  5          41.077     2  \n",
       "2         10                  5          41.061     3  \n",
       "3         10                  5          40.893     4  \n",
       "4         10                  5          40.837     5  "
      ]
     },
     "execution_count": 37,
     "metadata": {},
     "output_type": "execute_result"
    }
   ],
   "source": [
    "import pandas as pd\n",
    "bonus_df = pd.read_csv(\"Top_50_Hybrid_Bonus_Leaderboard.csv\")\n",
    "bonus_df.head()"
   ]
  },
  {
   "cell_type": "code",
   "execution_count": 34,
   "id": "d80e68d7",
   "metadata": {},
   "outputs": [
    {
     "name": "stdout",
     "output_type": "stream",
     "text": [
      "Top 50 leaderboard has been saved as 'Top_50_Loyalty_Leaderboard.csv'\n"
     ]
    }
   ],
   "source": [
    "\n",
    "print(\"Top 50 leaderboard has been saved as 'Top_50_Loyalty_Leaderboard.csv'\")"
   ]
  }
 ],
 "metadata": {
  "kernelspec": {
   "display_name": "Python 3",
   "language": "python",
   "name": "python3"
  },
  "language_info": {
   "codemirror_mode": {
    "name": "ipython",
    "version": 3
   },
   "file_extension": ".py",
   "mimetype": "text/x-python",
   "name": "python",
   "nbconvert_exporter": "python",
   "pygments_lexer": "ipython3",
   "version": "3.11.0"
  }
 },
 "nbformat": 4,
 "nbformat_minor": 5
}
